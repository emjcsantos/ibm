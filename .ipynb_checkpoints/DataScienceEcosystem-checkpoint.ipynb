{
 "cells": [
  {
   "cell_type": "markdown",
   "id": "e6b1f056-e5b1-48a1-88c0-e5544f4f2096",
   "metadata": {},
   "source": [
    "# Data Science Tools and Ecosystem"
   ]
  },
  {
   "cell_type": "markdown",
   "id": "bc351154-30fc-4500-8d06-d13ed117fff5",
   "metadata": {},
   "source": [
    "In this notebook, Data Science Tools and Ecosystem are summarized."
   ]
  },
  {
   "cell_type": "markdown",
   "id": "0430428a-cc1f-4f91-be2a-ae073a3442d1",
   "metadata": {},
   "source": [
    "Some of the popular languages that Data Scientists use are:\n",
    "1. Python\n",
    "2. R\n",
    "3. Julia"
   ]
  },
  {
   "cell_type": "markdown",
   "id": "cdc48259-6f4e-4f6f-9655-7a7e4d49e7a0",
   "metadata": {},
   "source": [
    "Some of the commonly used libraries used by Data Scientists include:\n",
    "1. Pandas\n",
    "2. Numpy\n",
    "3. SciPy\n",
    "4. SKLearn\n",
    "5. Matplotlib\n",
    "6. Seaboarn"
   ]
  },
  {
   "cell_type": "markdown",
   "id": "3162e559-f5da-4448-a06e-6c0ac3e0ba17",
   "metadata": {},
   "source": [
    "| Data Science Tools|\n",
    "---------------------\n",
    "|Jupyter Notebook|\n",
    "|VS Code|\n",
    "|RStudio|"
   ]
  },
  {
   "cell_type": "markdown",
   "id": "3b090960-11bb-4b66-8bf9-86388cb5c0e6",
   "metadata": {},
   "source": [
    "### Below are a few examples of evaluating arithmetic expressions in Python.\n",
    "- \\+\n",
    "- \\-\n",
    "- \\*\n",
    "- /"
   ]
  },
  {
   "cell_type": "code",
   "execution_count": 1,
   "id": "645d8552-4488-4519-8db2-6bf147bf1754",
   "metadata": {},
   "outputs": [
    {
     "data": {
      "text/plain": [
       "17"
      ]
     },
     "execution_count": 1,
     "metadata": {},
     "output_type": "execute_result"
    }
   ],
   "source": [
    "# This is simple arithmetic expression to multiply then add integers*\n",
    "(3*4)+5"
   ]
  },
  {
   "cell_type": "code",
   "execution_count": 2,
   "id": "36c87c66-abef-4840-b52e-1442b1e5d36e",
   "metadata": {},
   "outputs": [
    {
     "data": {
      "text/plain": [
       "3.3333333333333335"
      ]
     },
     "execution_count": 2,
     "metadata": {},
     "output_type": "execute_result"
    }
   ],
   "source": [
    "# This will convert 200 minutes to hours by diving by 60\n",
    "200/60"
   ]
  },
  {
   "cell_type": "markdown",
   "id": "182915b4-c966-4d04-89ce-8a5efd8a134e",
   "metadata": {},
   "source": [
    "**Objectives:**\n",
    "- Formatting of markdown cells\n",
    "- Creating of ordered and unordered lists\n",
    "- List basic arithmetic operations\n",
    "- Perform basic arithmetic operation"
   ]
  },
  {
   "cell_type": "markdown",
   "id": "d92bdd76-9866-451b-97f1-e63b79e9b8e6",
   "metadata": {},
   "source": [
    "## Author\n",
    "Earl Santos"
   ]
  },
  {
   "cell_type": "code",
   "execution_count": null,
   "id": "031ca5ba-49d5-4680-95bc-13c10b1c66e0",
   "metadata": {},
   "outputs": [],
   "source": []
  }
 ],
 "metadata": {
  "kernelspec": {
   "display_name": "Python 3 (ipykernel)",
   "language": "python",
   "name": "python3"
  },
  "language_info": {
   "codemirror_mode": {
    "name": "ipython",
    "version": 3
   },
   "file_extension": ".py",
   "mimetype": "text/x-python",
   "name": "python",
   "nbconvert_exporter": "python",
   "pygments_lexer": "ipython3",
   "version": "3.11.9"
  }
 },
 "nbformat": 4,
 "nbformat_minor": 5
}
